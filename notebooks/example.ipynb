{
 "cells": [
  {
   "cell_type": "code",
   "execution_count": 340,
   "id": "d1576a84-6ea0-43fa-9024-877154db959d",
   "metadata": {},
   "outputs": [],
   "source": [
    "import pandas as pd\n",
    "import numpy as np\n",
    "from datetime import datetime, timedelta\n",
    "from sqlalchemy import create_engine"
   ]
  },
  {
   "cell_type": "code",
   "execution_count": 12,
   "id": "97ca6090-ac74-4393-8012-de2c033cecee",
   "metadata": {},
   "outputs": [],
   "source": [
    "time = datetime.now().replace(microsecond=0, second=0, minute=0)"
   ]
  },
  {
   "cell_type": "code",
   "execution_count": 10,
   "id": "fe72b774-fe31-415c-8190-394a1def6479",
   "metadata": {},
   "outputs": [],
   "source": [
    "DVL_TIMESHIFT = timedelta(days=91)\n",
    "DATA_HISTORY = timedelta(days=23)"
   ]
  },
  {
   "cell_type": "code",
   "execution_count": 11,
   "id": "3425edbc-916f-47fb-a227-2d0ac6f5e5ef",
   "metadata": {},
   "outputs": [
    {
     "data": {
      "text/plain": [
       "datetime.timedelta(days=91)"
      ]
     },
     "execution_count": 11,
     "metadata": {},
     "output_type": "execute_result"
    }
   ],
   "source": [
    "DVL_TIMESHIFT"
   ]
  },
  {
   "cell_type": "code",
   "execution_count": null,
   "id": "8bb8d8ba-76ca-43c7-b4fb-f6a63d37381b",
   "metadata": {},
   "outputs": [
    {
     "data": {
      "text/plain": [
       "'2021-11-13 14:00:00'"
      ]
     },
     "execution_count": 18,
     "metadata": {},
     "output_type": "execute_result"
    }
   ],
   "source": [
    "(time - DVL_TIMESHIFT).strftime(\"%Y-%m-%d %H:%M:%S\")"
   ]
  },
  {
   "cell_type": "code",
   "execution_count": 68,
   "id": "6937dbb9-b2ea-48dd-a4d2-967c563df6ba",
   "metadata": {},
   "outputs": [],
   "source": [
    "def get_lag_features(data, lag, agg_field):\n",
    "    full_features = np.empty((0,len(lag)), int)\n",
    "    lag_max = lag.max()\n",
    "    atms = data[agg_field].unique()\n",
    "    for atm in atms:\n",
    "        print(atm)\n",
    "        subset = data[data[agg_field] == atm]\n",
    "        lag_max, mask = get_lags(subset, lag)\n",
    "        print(len(mask))\n",
    "        features = np.full(shape=(lag_max, len(lag)), fill_value=-1)\n",
    "        features = np.append(features, subset.tr_count.values[mask], axis=0)\n",
    "        full_features = np.append(full_features, features, axis=0)\n",
    "    return lag_max, full_features, data.tr_count.values\n",
    "\n",
    "def get_lags(data, lag):\n",
    "    n = data.shape[0]\n",
    "    lag_min, lag_max = lag.min(), lag.max()\n",
    "    lags_count = n - lag_max - 1\n",
    "    start_lag = lag_max - lag\n",
    "    end_lag = start_lag + lags_count\n",
    "    mask = np.linspace(start_lag, end_lag, lags_count+1).astype(int)\n",
    "\n",
    "    return lag_max, mask\n",
    "\n",
    "def fix_columns(df, date_fld):\n",
    "    df[date_fld] = pd.to_datetime(df[date_fld])\n",
    "    df[\"name\"] = df[\"name\"].astype(\"string\")\n",
    "    return df\n",
    "\n",
    "\n",
    "def to_localtime(df, time_col, tz_col):\n",
    "    df['local_time'] = df[time_col] + pd.to_timedelta((df[tz_col] - 3), unit='h')\n",
    "    return df\n",
    "\n",
    "def get_days_features(df, time_col):\n",
    "    data = pd.DataFrame(index=df.index)\n",
    "    data[\"friday\"] = df[time_col].dt.dayofweek.values == 4\n",
    "    data[\"saturday\"] = df[time_col].dt.dayofweek.values == 5\n",
    "    data[\"sunday\"] = df[time_col].dt.dayofweek.values == 6\n",
    "    data[\"working\"] = np.bitwise_and(df[time_col].dt.dayofweek.values >= 0, df[time_col].dt.dayofweek.values <= 3)\n",
    "    data[\"pay_day\"] = np.bitwise_or(df[time_col].dt.day.values == 5, df[time_col].dt.day.values == 20)\n",
    "    data[\"after_pay_day\"] = np.bitwise_or(df[time_col].dt.day.values == 6, df[time_col].dt.day.values == 21)\n",
    "    return data\n",
    "\n",
    "def calc_tr_mode(df, w):\n",
    "    '''\n",
    "    params:\n",
    "        df - pandas.DataFrame\n",
    "        w - resampling window in format '4H'\n",
    "    return: pandas.DataFrame\n",
    "    '''\n",
    "    d = df[[\"name\", \"local_time\", \"tr_count\"]].groupby(\"name\").resample(rule=w, on=\"local_time\").mean()\n",
    "    d = d.reset_index()\n",
    "    d = d.groupby([\"name\", d.local_time.dt.hour]).mean().reset_index()\n",
    "    d = pd.pivot(d, index=\"name\", columns=\"local_time\").reset_index()\n",
    "    d = df.merge(d, on=\"name\")\n",
    "    return d.iloc[:, 3:]"
   ]
  },
  {
   "cell_type": "code",
   "execution_count": 73,
   "id": "c4dd781d-700d-494a-807e-e10e656504eb",
   "metadata": {},
   "outputs": [],
   "source": [
    "    lag = (np.array([24, 48, 72, 96, 120, 144, 168, 336, 504]) / np.round(\n",
    "        pd.Timedelta('1H').total_seconds() / 3600)).astype(int)\n",
    "\n",
    "    nfc_lag = (np.array([24, 48, 72, 96, 120, 144, 168, 336, 504]) / np.round(\n",
    "        pd.Timedelta('1D').total_seconds() / 3600)).astype(int)"
   ]
  },
  {
   "cell_type": "code",
   "execution_count": 74,
   "id": "8983ea06-5bfb-4d83-b3df-9d5d32a2abb1",
   "metadata": {},
   "outputs": [
    {
     "data": {
      "text/plain": [
       "array([ 24,  48,  72,  96, 120, 144, 168, 336, 504])"
      ]
     },
     "execution_count": 74,
     "metadata": {},
     "output_type": "execute_result"
    }
   ],
   "source": [
    "lag"
   ]
  },
  {
   "cell_type": "code",
   "execution_count": 75,
   "id": "a299afe9-51b1-4c4e-b4f6-d4a9066bd7f4",
   "metadata": {},
   "outputs": [
    {
     "data": {
      "text/plain": [
       "array([ 1,  2,  3,  4,  5,  6,  7, 14, 21])"
      ]
     },
     "execution_count": 75,
     "metadata": {},
     "output_type": "execute_result"
    }
   ],
   "source": [
    "nfc_lag"
   ]
  },
  {
   "cell_type": "code",
   "execution_count": 354,
   "id": "177c147f-da9e-4d44-8b9a-f55653b49313",
   "metadata": {},
   "outputs": [],
   "source": [
    "df = pd.read_csv(\"../../../../data/atm_transactions/transactions_all_6683.csv\")"
   ]
  },
  {
   "cell_type": "code",
   "execution_count": 355,
   "id": "eea5c864-8b42-4181-9a81-97506db02eb1",
   "metadata": {},
   "outputs": [],
   "source": [
    "df = fix_columns(df, 'date')\n",
    "df = df[[\"name\", \"date\", \"tr_count\"]]"
   ]
  },
  {
   "cell_type": "code",
   "execution_count": 294,
   "id": "f00f5599-2095-4a46-960f-3f067de3b448",
   "metadata": {},
   "outputs": [],
   "source": [
    "atm_skto = pd.read_csv(\"../../../../data/atm_transactions/atm_info.csv\")"
   ]
  },
  {
   "cell_type": "code",
   "execution_count": 356,
   "id": "ee2b84ad-ec15-47cc-af16-49f87badb893",
   "metadata": {},
   "outputs": [],
   "source": [
    "atm_skto = atm_skto[[\"name\", \"service_time\", \"timezone\"]]\n",
    "atm_skto['name'] = atm_skto['name'].astype(\"string\")\n",
    "df = df.merge(atm_skto, on=\"name\")\n",
    "df = to_localtime(df, 'date', 'timezone')\n",
    "df = df[[\"name\", \"local_time\", \"tr_count\"]]\n",
    "df = df.sort_values([\"name\", \"local_time\"])\n",
    "df = df.groupby(\"name\").resample(rule='1H', on=\"local_time\").sum()\n",
    "df = df.reset_index()"
   ]
  },
  {
   "cell_type": "code",
   "execution_count": 404,
   "id": "fb5dc33f-f13e-445a-8909-03711156588e",
   "metadata": {},
   "outputs": [],
   "source": [
    "test_df = df[df.name.isin(['378001','378002'])]"
   ]
  },
  {
   "cell_type": "code",
   "execution_count": 443,
   "id": "258a8c3b-ee75-43c6-b093-87006aacb6a6",
   "metadata": {},
   "outputs": [],
   "source": [
    "idx = pd.date_range('2021-01-01 00:00:00', datetime.now().replace(microsecond=0, second=0, minute=0), freq='H')"
   ]
  },
  {
   "cell_type": "code",
   "execution_count": 444,
   "id": "92de81ee-3491-461c-a347-e29f55f05f22",
   "metadata": {},
   "outputs": [
    {
     "data": {
      "text/plain": [
       "DatetimeIndex(['2021-01-01 00:00:00', '2021-01-01 01:00:00',\n",
       "               '2021-01-01 02:00:00', '2021-01-01 03:00:00',\n",
       "               '2021-01-01 04:00:00', '2021-01-01 05:00:00',\n",
       "               '2021-01-01 06:00:00', '2021-01-01 07:00:00',\n",
       "               '2021-01-01 08:00:00', '2021-01-01 09:00:00',\n",
       "               ...\n",
       "               '2022-03-01 08:00:00', '2022-03-01 09:00:00',\n",
       "               '2022-03-01 10:00:00', '2022-03-01 11:00:00',\n",
       "               '2022-03-01 12:00:00', '2022-03-01 13:00:00',\n",
       "               '2022-03-01 14:00:00', '2022-03-01 15:00:00',\n",
       "               '2022-03-01 16:00:00', '2022-03-01 17:00:00'],\n",
       "              dtype='datetime64[ns]', length=10194, freq='H')"
      ]
     },
     "execution_count": 444,
     "metadata": {},
     "output_type": "execute_result"
    }
   ],
   "source": [
    "idx"
   ]
  },
  {
   "cell_type": "code",
   "execution_count": 406,
   "id": "9f467c81-56d3-45b2-b05a-47d4de6b6b11",
   "metadata": {},
   "outputs": [
    {
     "data": {
      "text/html": [
       "<div>\n",
       "<style scoped>\n",
       "    .dataframe tbody tr th:only-of-type {\n",
       "        vertical-align: middle;\n",
       "    }\n",
       "\n",
       "    .dataframe tbody tr th {\n",
       "        vertical-align: top;\n",
       "    }\n",
       "\n",
       "    .dataframe thead th {\n",
       "        text-align: right;\n",
       "    }\n",
       "</style>\n",
       "<table border=\"1\" class=\"dataframe\">\n",
       "  <thead>\n",
       "    <tr style=\"text-align: right;\">\n",
       "      <th></th>\n",
       "      <th>name</th>\n",
       "      <th>local_time</th>\n",
       "      <th>tr_count</th>\n",
       "    </tr>\n",
       "  </thead>\n",
       "  <tbody>\n",
       "    <tr>\n",
       "      <th>0</th>\n",
       "      <td>378001</td>\n",
       "      <td>2021-01-02 09:00:00</td>\n",
       "      <td>11</td>\n",
       "    </tr>\n",
       "    <tr>\n",
       "      <th>1</th>\n",
       "      <td>378001</td>\n",
       "      <td>2021-01-02 10:00:00</td>\n",
       "      <td>0</td>\n",
       "    </tr>\n",
       "    <tr>\n",
       "      <th>2</th>\n",
       "      <td>378001</td>\n",
       "      <td>2021-01-02 11:00:00</td>\n",
       "      <td>2</td>\n",
       "    </tr>\n",
       "    <tr>\n",
       "      <th>3</th>\n",
       "      <td>378001</td>\n",
       "      <td>2021-01-02 12:00:00</td>\n",
       "      <td>7</td>\n",
       "    </tr>\n",
       "    <tr>\n",
       "      <th>4</th>\n",
       "      <td>378001</td>\n",
       "      <td>2021-01-02 13:00:00</td>\n",
       "      <td>13</td>\n",
       "    </tr>\n",
       "    <tr>\n",
       "      <th>...</th>\n",
       "      <td>...</td>\n",
       "      <td>...</td>\n",
       "      <td>...</td>\n",
       "    </tr>\n",
       "    <tr>\n",
       "      <th>10150</th>\n",
       "      <td>378002</td>\n",
       "      <td>2021-08-01 19:00:00</td>\n",
       "      <td>17</td>\n",
       "    </tr>\n",
       "    <tr>\n",
       "      <th>10151</th>\n",
       "      <td>378002</td>\n",
       "      <td>2021-08-01 20:00:00</td>\n",
       "      <td>4</td>\n",
       "    </tr>\n",
       "    <tr>\n",
       "      <th>10152</th>\n",
       "      <td>378002</td>\n",
       "      <td>2021-08-01 21:00:00</td>\n",
       "      <td>4</td>\n",
       "    </tr>\n",
       "    <tr>\n",
       "      <th>10153</th>\n",
       "      <td>378002</td>\n",
       "      <td>2021-08-01 22:00:00</td>\n",
       "      <td>26</td>\n",
       "    </tr>\n",
       "    <tr>\n",
       "      <th>10154</th>\n",
       "      <td>378002</td>\n",
       "      <td>2021-08-01 23:00:00</td>\n",
       "      <td>11</td>\n",
       "    </tr>\n",
       "  </tbody>\n",
       "</table>\n",
       "<p>10155 rows × 3 columns</p>\n",
       "</div>"
      ],
      "text/plain": [
       "         name          local_time  tr_count\n",
       "0      378001 2021-01-02 09:00:00        11\n",
       "1      378001 2021-01-02 10:00:00         0\n",
       "2      378001 2021-01-02 11:00:00         2\n",
       "3      378001 2021-01-02 12:00:00         7\n",
       "4      378001 2021-01-02 13:00:00        13\n",
       "...       ...                 ...       ...\n",
       "10150  378002 2021-08-01 19:00:00        17\n",
       "10151  378002 2021-08-01 20:00:00         4\n",
       "10152  378002 2021-08-01 21:00:00         4\n",
       "10153  378002 2021-08-01 22:00:00        26\n",
       "10154  378002 2021-08-01 23:00:00        11\n",
       "\n",
       "[10155 rows x 3 columns]"
      ]
     },
     "execution_count": 406,
     "metadata": {},
     "output_type": "execute_result"
    }
   ],
   "source": [
    "test_df"
   ]
  },
  {
   "cell_type": "code",
   "execution_count": 407,
   "id": "dedfdbc1-e4d7-4d75-bf7b-cc486257cd22",
   "metadata": {},
   "outputs": [],
   "source": [
    "test_df.set_index(['name','local_time'], inplace=True)"
   ]
  },
  {
   "cell_type": "code",
   "execution_count": 408,
   "id": "44d988ab-f9f5-4c4f-8d5b-95a702df1c73",
   "metadata": {},
   "outputs": [
    {
     "data": {
      "text/html": [
       "<div>\n",
       "<style scoped>\n",
       "    .dataframe tbody tr th:only-of-type {\n",
       "        vertical-align: middle;\n",
       "    }\n",
       "\n",
       "    .dataframe tbody tr th {\n",
       "        vertical-align: top;\n",
       "    }\n",
       "\n",
       "    .dataframe thead th {\n",
       "        text-align: right;\n",
       "    }\n",
       "</style>\n",
       "<table border=\"1\" class=\"dataframe\">\n",
       "  <thead>\n",
       "    <tr style=\"text-align: right;\">\n",
       "      <th></th>\n",
       "      <th></th>\n",
       "      <th>tr_count</th>\n",
       "    </tr>\n",
       "    <tr>\n",
       "      <th>name</th>\n",
       "      <th>local_time</th>\n",
       "      <th></th>\n",
       "    </tr>\n",
       "  </thead>\n",
       "  <tbody>\n",
       "    <tr>\n",
       "      <th rowspan=\"5\" valign=\"top\">378001</th>\n",
       "      <th>2021-01-02 09:00:00</th>\n",
       "      <td>11</td>\n",
       "    </tr>\n",
       "    <tr>\n",
       "      <th>2021-01-02 10:00:00</th>\n",
       "      <td>0</td>\n",
       "    </tr>\n",
       "    <tr>\n",
       "      <th>2021-01-02 11:00:00</th>\n",
       "      <td>2</td>\n",
       "    </tr>\n",
       "    <tr>\n",
       "      <th>2021-01-02 12:00:00</th>\n",
       "      <td>7</td>\n",
       "    </tr>\n",
       "    <tr>\n",
       "      <th>2021-01-02 13:00:00</th>\n",
       "      <td>13</td>\n",
       "    </tr>\n",
       "    <tr>\n",
       "      <th>...</th>\n",
       "      <th>...</th>\n",
       "      <td>...</td>\n",
       "    </tr>\n",
       "    <tr>\n",
       "      <th rowspan=\"5\" valign=\"top\">378002</th>\n",
       "      <th>2021-08-01 19:00:00</th>\n",
       "      <td>17</td>\n",
       "    </tr>\n",
       "    <tr>\n",
       "      <th>2021-08-01 20:00:00</th>\n",
       "      <td>4</td>\n",
       "    </tr>\n",
       "    <tr>\n",
       "      <th>2021-08-01 21:00:00</th>\n",
       "      <td>4</td>\n",
       "    </tr>\n",
       "    <tr>\n",
       "      <th>2021-08-01 22:00:00</th>\n",
       "      <td>26</td>\n",
       "    </tr>\n",
       "    <tr>\n",
       "      <th>2021-08-01 23:00:00</th>\n",
       "      <td>11</td>\n",
       "    </tr>\n",
       "  </tbody>\n",
       "</table>\n",
       "<p>10155 rows × 1 columns</p>\n",
       "</div>"
      ],
      "text/plain": [
       "                            tr_count\n",
       "name   local_time                   \n",
       "378001 2021-01-02 09:00:00        11\n",
       "       2021-01-02 10:00:00         0\n",
       "       2021-01-02 11:00:00         2\n",
       "       2021-01-02 12:00:00         7\n",
       "       2021-01-02 13:00:00        13\n",
       "...                              ...\n",
       "378002 2021-08-01 19:00:00        17\n",
       "       2021-08-01 20:00:00         4\n",
       "       2021-08-01 21:00:00         4\n",
       "       2021-08-01 22:00:00        26\n",
       "       2021-08-01 23:00:00        11\n",
       "\n",
       "[10155 rows x 1 columns]"
      ]
     },
     "execution_count": 408,
     "metadata": {},
     "output_type": "execute_result"
    }
   ],
   "source": [
    "test_df"
   ]
  },
  {
   "cell_type": "code",
   "execution_count": 439,
   "id": "bcd3d11f-cc8b-473d-91e1-acdd7b1ed0cd",
   "metadata": {},
   "outputs": [],
   "source": [
    "mux = pd.MultiIndex.from_product([test_df.index.levels[0], idx], \n",
    "                                 names=test_df.index.names)"
   ]
  },
  {
   "cell_type": "code",
   "execution_count": 440,
   "id": "792f94bb-81c3-4541-9f48-37080a0b94c2",
   "metadata": {},
   "outputs": [
    {
     "data": {
      "text/plain": [
       "MultiIndex([('378001', '2021-01-01 00:00:00'),\n",
       "            ('378001', '2021-01-01 01:00:00'),\n",
       "            ('378001', '2021-01-01 02:00:00'),\n",
       "            ('378001', '2021-01-01 03:00:00'),\n",
       "            ('378001', '2021-01-01 04:00:00'),\n",
       "            ('378001', '2021-01-01 05:00:00'),\n",
       "            ('378001', '2021-01-01 06:00:00'),\n",
       "            ('378001', '2021-01-01 07:00:00'),\n",
       "            ('378001', '2021-01-01 08:00:00'),\n",
       "            ('378001', '2021-01-01 09:00:00'),\n",
       "            ...\n",
       "            ('378002', '2021-08-01 15:00:00'),\n",
       "            ('378002', '2021-08-01 16:00:00'),\n",
       "            ('378002', '2021-08-01 17:00:00'),\n",
       "            ('378002', '2021-08-01 18:00:00'),\n",
       "            ('378002', '2021-08-01 19:00:00'),\n",
       "            ('378002', '2021-08-01 20:00:00'),\n",
       "            ('378002', '2021-08-01 21:00:00'),\n",
       "            ('378002', '2021-08-01 22:00:00'),\n",
       "            ('378002', '2021-08-01 23:00:00'),\n",
       "            ('378002', '2021-08-02 00:00:00')],\n",
       "           names=['name', 'local_time'], length=10226)"
      ]
     },
     "execution_count": 440,
     "metadata": {},
     "output_type": "execute_result"
    }
   ],
   "source": [
    "mux"
   ]
  },
  {
   "cell_type": "code",
   "execution_count": 442,
   "id": "d8a27a9f-0d76-4824-8468-3f6db1625eec",
   "metadata": {},
   "outputs": [
    {
     "data": {
      "text/html": [
       "<div>\n",
       "<style scoped>\n",
       "    .dataframe tbody tr th:only-of-type {\n",
       "        vertical-align: middle;\n",
       "    }\n",
       "\n",
       "    .dataframe tbody tr th {\n",
       "        vertical-align: top;\n",
       "    }\n",
       "\n",
       "    .dataframe thead th {\n",
       "        text-align: right;\n",
       "    }\n",
       "</style>\n",
       "<table border=\"1\" class=\"dataframe\">\n",
       "  <thead>\n",
       "    <tr style=\"text-align: right;\">\n",
       "      <th></th>\n",
       "      <th>name</th>\n",
       "      <th>local_time</th>\n",
       "      <th>tr_count</th>\n",
       "    </tr>\n",
       "  </thead>\n",
       "  <tbody>\n",
       "    <tr>\n",
       "      <th>0</th>\n",
       "      <td>378001</td>\n",
       "      <td>2021-01-01 00:00:00</td>\n",
       "      <td>0</td>\n",
       "    </tr>\n",
       "    <tr>\n",
       "      <th>1</th>\n",
       "      <td>378001</td>\n",
       "      <td>2021-01-01 01:00:00</td>\n",
       "      <td>0</td>\n",
       "    </tr>\n",
       "    <tr>\n",
       "      <th>2</th>\n",
       "      <td>378001</td>\n",
       "      <td>2021-01-01 02:00:00</td>\n",
       "      <td>0</td>\n",
       "    </tr>\n",
       "    <tr>\n",
       "      <th>3</th>\n",
       "      <td>378001</td>\n",
       "      <td>2021-01-01 03:00:00</td>\n",
       "      <td>0</td>\n",
       "    </tr>\n",
       "    <tr>\n",
       "      <th>4</th>\n",
       "      <td>378001</td>\n",
       "      <td>2021-01-01 04:00:00</td>\n",
       "      <td>0</td>\n",
       "    </tr>\n",
       "    <tr>\n",
       "      <th>...</th>\n",
       "      <td>...</td>\n",
       "      <td>...</td>\n",
       "      <td>...</td>\n",
       "    </tr>\n",
       "    <tr>\n",
       "      <th>10221</th>\n",
       "      <td>378002</td>\n",
       "      <td>2021-08-01 20:00:00</td>\n",
       "      <td>4</td>\n",
       "    </tr>\n",
       "    <tr>\n",
       "      <th>10222</th>\n",
       "      <td>378002</td>\n",
       "      <td>2021-08-01 21:00:00</td>\n",
       "      <td>4</td>\n",
       "    </tr>\n",
       "    <tr>\n",
       "      <th>10223</th>\n",
       "      <td>378002</td>\n",
       "      <td>2021-08-01 22:00:00</td>\n",
       "      <td>26</td>\n",
       "    </tr>\n",
       "    <tr>\n",
       "      <th>10224</th>\n",
       "      <td>378002</td>\n",
       "      <td>2021-08-01 23:00:00</td>\n",
       "      <td>11</td>\n",
       "    </tr>\n",
       "    <tr>\n",
       "      <th>10225</th>\n",
       "      <td>378002</td>\n",
       "      <td>2021-08-02 00:00:00</td>\n",
       "      <td>0</td>\n",
       "    </tr>\n",
       "  </tbody>\n",
       "</table>\n",
       "<p>10226 rows × 3 columns</p>\n",
       "</div>"
      ],
      "text/plain": [
       "         name          local_time  tr_count\n",
       "0      378001 2021-01-01 00:00:00         0\n",
       "1      378001 2021-01-01 01:00:00         0\n",
       "2      378001 2021-01-01 02:00:00         0\n",
       "3      378001 2021-01-01 03:00:00         0\n",
       "4      378001 2021-01-01 04:00:00         0\n",
       "...       ...                 ...       ...\n",
       "10221  378002 2021-08-01 20:00:00         4\n",
       "10222  378002 2021-08-01 21:00:00         4\n",
       "10223  378002 2021-08-01 22:00:00        26\n",
       "10224  378002 2021-08-01 23:00:00        11\n",
       "10225  378002 2021-08-02 00:00:00         0\n",
       "\n",
       "[10226 rows x 3 columns]"
      ]
     },
     "execution_count": 442,
     "metadata": {},
     "output_type": "execute_result"
    }
   ],
   "source": [
    "test_df.reindex(mux, fill_value=0).reset_index()"
   ]
  },
  {
   "cell_type": "code",
   "execution_count": 380,
   "id": "cb31619f-7ff3-44b8-99c6-b8e2ce0280ea",
   "metadata": {},
   "outputs": [
    {
     "ename": "ValueError",
     "evalue": "cannot reindex from a duplicate axis",
     "output_type": "error",
     "traceback": [
      "\u001b[0;31m---------------------------------------------------------------------------\u001b[0m",
      "\u001b[0;31mValueError\u001b[0m                                Traceback (most recent call last)",
      "\u001b[0;32m/tmp/ipykernel_12560/1820520485.py\u001b[0m in \u001b[0;36m<module>\u001b[0;34m\u001b[0m\n\u001b[0;32m----> 1\u001b[0;31m \u001b[0mtest_df\u001b[0m\u001b[0;34m.\u001b[0m\u001b[0mreindex\u001b[0m\u001b[0;34m(\u001b[0m\u001b[0mpd\u001b[0m\u001b[0;34m.\u001b[0m\u001b[0mdate_range\u001b[0m\u001b[0;34m(\u001b[0m\u001b[0;34m'2021-01-02 00:00:00'\u001b[0m\u001b[0;34m,\u001b[0m \u001b[0;34m'2021-08-02 00:00:00'\u001b[0m\u001b[0;34m,\u001b[0m \u001b[0mfreq\u001b[0m\u001b[0;34m=\u001b[0m\u001b[0;34m'H'\u001b[0m\u001b[0;34m,\u001b[0m \u001b[0mclosed\u001b[0m\u001b[0;34m=\u001b[0m\u001b[0;34m'left'\u001b[0m\u001b[0;34m)\u001b[0m\u001b[0;34m)\u001b[0m\u001b[0;34m.\u001b[0m\u001b[0mfillna\u001b[0m\u001b[0;34m(\u001b[0m\u001b[0;36m0\u001b[0m\u001b[0;34m)\u001b[0m\u001b[0;34m\u001b[0m\u001b[0;34m\u001b[0m\u001b[0m\n\u001b[0m",
      "\u001b[0;32m~/projects/data_science/lib/python3.8/site-packages/pandas/util/_decorators.py\u001b[0m in \u001b[0;36mwrapper\u001b[0;34m(*args, **kwargs)\u001b[0m\n\u001b[1;32m    322\u001b[0m         \u001b[0;34m@\u001b[0m\u001b[0mwraps\u001b[0m\u001b[0;34m(\u001b[0m\u001b[0mfunc\u001b[0m\u001b[0;34m)\u001b[0m\u001b[0;34m\u001b[0m\u001b[0;34m\u001b[0m\u001b[0m\n\u001b[1;32m    323\u001b[0m         \u001b[0;32mdef\u001b[0m \u001b[0mwrapper\u001b[0m\u001b[0;34m(\u001b[0m\u001b[0;34m*\u001b[0m\u001b[0margs\u001b[0m\u001b[0;34m,\u001b[0m \u001b[0;34m**\u001b[0m\u001b[0mkwargs\u001b[0m\u001b[0;34m)\u001b[0m \u001b[0;34m->\u001b[0m \u001b[0mCallable\u001b[0m\u001b[0;34m[\u001b[0m\u001b[0;34m...\u001b[0m\u001b[0;34m,\u001b[0m \u001b[0mAny\u001b[0m\u001b[0;34m]\u001b[0m\u001b[0;34m:\u001b[0m\u001b[0;34m\u001b[0m\u001b[0;34m\u001b[0m\u001b[0m\n\u001b[0;32m--> 324\u001b[0;31m             \u001b[0;32mreturn\u001b[0m \u001b[0mfunc\u001b[0m\u001b[0;34m(\u001b[0m\u001b[0;34m*\u001b[0m\u001b[0margs\u001b[0m\u001b[0;34m,\u001b[0m \u001b[0;34m**\u001b[0m\u001b[0mkwargs\u001b[0m\u001b[0;34m)\u001b[0m\u001b[0;34m\u001b[0m\u001b[0;34m\u001b[0m\u001b[0m\n\u001b[0m\u001b[1;32m    325\u001b[0m \u001b[0;34m\u001b[0m\u001b[0m\n\u001b[1;32m    326\u001b[0m         \u001b[0mkind\u001b[0m \u001b[0;34m=\u001b[0m \u001b[0minspect\u001b[0m\u001b[0;34m.\u001b[0m\u001b[0mParameter\u001b[0m\u001b[0;34m.\u001b[0m\u001b[0mPOSITIONAL_OR_KEYWORD\u001b[0m\u001b[0;34m\u001b[0m\u001b[0;34m\u001b[0m\u001b[0m\n",
      "\u001b[0;32m~/projects/data_science/lib/python3.8/site-packages/pandas/core/frame.py\u001b[0m in \u001b[0;36mreindex\u001b[0;34m(self, *args, **kwargs)\u001b[0m\n\u001b[1;32m   4770\u001b[0m         \u001b[0mkwargs\u001b[0m\u001b[0;34m.\u001b[0m\u001b[0mpop\u001b[0m\u001b[0;34m(\u001b[0m\u001b[0;34m\"axis\"\u001b[0m\u001b[0;34m,\u001b[0m \u001b[0;32mNone\u001b[0m\u001b[0;34m)\u001b[0m\u001b[0;34m\u001b[0m\u001b[0;34m\u001b[0m\u001b[0m\n\u001b[1;32m   4771\u001b[0m         \u001b[0mkwargs\u001b[0m\u001b[0;34m.\u001b[0m\u001b[0mpop\u001b[0m\u001b[0;34m(\u001b[0m\u001b[0;34m\"labels\"\u001b[0m\u001b[0;34m,\u001b[0m \u001b[0;32mNone\u001b[0m\u001b[0;34m)\u001b[0m\u001b[0;34m\u001b[0m\u001b[0;34m\u001b[0m\u001b[0m\n\u001b[0;32m-> 4772\u001b[0;31m         \u001b[0;32mreturn\u001b[0m \u001b[0msuper\u001b[0m\u001b[0;34m(\u001b[0m\u001b[0;34m)\u001b[0m\u001b[0;34m.\u001b[0m\u001b[0mreindex\u001b[0m\u001b[0;34m(\u001b[0m\u001b[0;34m**\u001b[0m\u001b[0mkwargs\u001b[0m\u001b[0;34m)\u001b[0m\u001b[0;34m\u001b[0m\u001b[0;34m\u001b[0m\u001b[0m\n\u001b[0m\u001b[1;32m   4773\u001b[0m \u001b[0;34m\u001b[0m\u001b[0m\n\u001b[1;32m   4774\u001b[0m     \u001b[0;34m@\u001b[0m\u001b[0mdeprecate_nonkeyword_arguments\u001b[0m\u001b[0;34m(\u001b[0m\u001b[0mversion\u001b[0m\u001b[0;34m=\u001b[0m\u001b[0;32mNone\u001b[0m\u001b[0;34m,\u001b[0m \u001b[0mallowed_args\u001b[0m\u001b[0;34m=\u001b[0m\u001b[0;34m[\u001b[0m\u001b[0;34m\"self\"\u001b[0m\u001b[0;34m,\u001b[0m \u001b[0;34m\"labels\"\u001b[0m\u001b[0;34m]\u001b[0m\u001b[0;34m)\u001b[0m\u001b[0;34m\u001b[0m\u001b[0;34m\u001b[0m\u001b[0m\n",
      "\u001b[0;32m~/projects/data_science/lib/python3.8/site-packages/pandas/core/generic.py\u001b[0m in \u001b[0;36mreindex\u001b[0;34m(self, *args, **kwargs)\u001b[0m\n\u001b[1;32m   4816\u001b[0m \u001b[0;34m\u001b[0m\u001b[0m\n\u001b[1;32m   4817\u001b[0m         \u001b[0;31m# perform the reindex on the axes\u001b[0m\u001b[0;34m\u001b[0m\u001b[0;34m\u001b[0m\u001b[0;34m\u001b[0m\u001b[0m\n\u001b[0;32m-> 4818\u001b[0;31m         return self._reindex_axes(\n\u001b[0m\u001b[1;32m   4819\u001b[0m             \u001b[0maxes\u001b[0m\u001b[0;34m,\u001b[0m \u001b[0mlevel\u001b[0m\u001b[0;34m,\u001b[0m \u001b[0mlimit\u001b[0m\u001b[0;34m,\u001b[0m \u001b[0mtolerance\u001b[0m\u001b[0;34m,\u001b[0m \u001b[0mmethod\u001b[0m\u001b[0;34m,\u001b[0m \u001b[0mfill_value\u001b[0m\u001b[0;34m,\u001b[0m \u001b[0mcopy\u001b[0m\u001b[0;34m\u001b[0m\u001b[0;34m\u001b[0m\u001b[0m\n\u001b[1;32m   4820\u001b[0m         ).__finalize__(self, method=\"reindex\")\n",
      "\u001b[0;32m~/projects/data_science/lib/python3.8/site-packages/pandas/core/frame.py\u001b[0m in \u001b[0;36m_reindex_axes\u001b[0;34m(self, axes, level, limit, tolerance, method, fill_value, copy)\u001b[0m\n\u001b[1;32m   4595\u001b[0m         \u001b[0mindex\u001b[0m \u001b[0;34m=\u001b[0m \u001b[0maxes\u001b[0m\u001b[0;34m[\u001b[0m\u001b[0;34m\"index\"\u001b[0m\u001b[0;34m]\u001b[0m\u001b[0;34m\u001b[0m\u001b[0;34m\u001b[0m\u001b[0m\n\u001b[1;32m   4596\u001b[0m         \u001b[0;32mif\u001b[0m \u001b[0mindex\u001b[0m \u001b[0;32mis\u001b[0m \u001b[0;32mnot\u001b[0m \u001b[0;32mNone\u001b[0m\u001b[0;34m:\u001b[0m\u001b[0;34m\u001b[0m\u001b[0;34m\u001b[0m\u001b[0m\n\u001b[0;32m-> 4597\u001b[0;31m             frame = frame._reindex_index(\n\u001b[0m\u001b[1;32m   4598\u001b[0m                 \u001b[0mindex\u001b[0m\u001b[0;34m,\u001b[0m \u001b[0mmethod\u001b[0m\u001b[0;34m,\u001b[0m \u001b[0mcopy\u001b[0m\u001b[0;34m,\u001b[0m \u001b[0mlevel\u001b[0m\u001b[0;34m,\u001b[0m \u001b[0mfill_value\u001b[0m\u001b[0;34m,\u001b[0m \u001b[0mlimit\u001b[0m\u001b[0;34m,\u001b[0m \u001b[0mtolerance\u001b[0m\u001b[0;34m\u001b[0m\u001b[0;34m\u001b[0m\u001b[0m\n\u001b[1;32m   4599\u001b[0m             )\n",
      "\u001b[0;32m~/projects/data_science/lib/python3.8/site-packages/pandas/core/frame.py\u001b[0m in \u001b[0;36m_reindex_index\u001b[0;34m(self, new_index, method, copy, level, fill_value, limit, tolerance)\u001b[0m\n\u001b[1;32m   4614\u001b[0m             \u001b[0mnew_index\u001b[0m\u001b[0;34m,\u001b[0m \u001b[0mmethod\u001b[0m\u001b[0;34m=\u001b[0m\u001b[0mmethod\u001b[0m\u001b[0;34m,\u001b[0m \u001b[0mlevel\u001b[0m\u001b[0;34m=\u001b[0m\u001b[0mlevel\u001b[0m\u001b[0;34m,\u001b[0m \u001b[0mlimit\u001b[0m\u001b[0;34m=\u001b[0m\u001b[0mlimit\u001b[0m\u001b[0;34m,\u001b[0m \u001b[0mtolerance\u001b[0m\u001b[0;34m=\u001b[0m\u001b[0mtolerance\u001b[0m\u001b[0;34m\u001b[0m\u001b[0;34m\u001b[0m\u001b[0m\n\u001b[1;32m   4615\u001b[0m         )\n\u001b[0;32m-> 4616\u001b[0;31m         return self._reindex_with_indexers(\n\u001b[0m\u001b[1;32m   4617\u001b[0m             \u001b[0;34m{\u001b[0m\u001b[0;36m0\u001b[0m\u001b[0;34m:\u001b[0m \u001b[0;34m[\u001b[0m\u001b[0mnew_index\u001b[0m\u001b[0;34m,\u001b[0m \u001b[0mindexer\u001b[0m\u001b[0;34m]\u001b[0m\u001b[0;34m}\u001b[0m\u001b[0;34m,\u001b[0m\u001b[0;34m\u001b[0m\u001b[0;34m\u001b[0m\u001b[0m\n\u001b[1;32m   4618\u001b[0m             \u001b[0mcopy\u001b[0m\u001b[0;34m=\u001b[0m\u001b[0mcopy\u001b[0m\u001b[0;34m,\u001b[0m\u001b[0;34m\u001b[0m\u001b[0;34m\u001b[0m\u001b[0m\n",
      "\u001b[0;32m~/projects/data_science/lib/python3.8/site-packages/pandas/core/generic.py\u001b[0m in \u001b[0;36m_reindex_with_indexers\u001b[0;34m(self, reindexers, fill_value, copy, allow_dups)\u001b[0m\n\u001b[1;32m   4881\u001b[0m \u001b[0;34m\u001b[0m\u001b[0m\n\u001b[1;32m   4882\u001b[0m             \u001b[0;31m# TODO: speed up on homogeneous DataFrame objects\u001b[0m\u001b[0;34m\u001b[0m\u001b[0;34m\u001b[0m\u001b[0;34m\u001b[0m\u001b[0m\n\u001b[0;32m-> 4883\u001b[0;31m             new_data = new_data.reindex_indexer(\n\u001b[0m\u001b[1;32m   4884\u001b[0m                 \u001b[0mindex\u001b[0m\u001b[0;34m,\u001b[0m\u001b[0;34m\u001b[0m\u001b[0;34m\u001b[0m\u001b[0m\n\u001b[1;32m   4885\u001b[0m                 \u001b[0mindexer\u001b[0m\u001b[0;34m,\u001b[0m\u001b[0;34m\u001b[0m\u001b[0;34m\u001b[0m\u001b[0m\n",
      "\u001b[0;32m~/projects/data_science/lib/python3.8/site-packages/pandas/core/internals/managers.py\u001b[0m in \u001b[0;36mreindex_indexer\u001b[0;34m(self, new_axis, indexer, axis, fill_value, allow_dups, copy, consolidate, only_slice)\u001b[0m\n\u001b[1;32m    668\u001b[0m         \u001b[0;31m# some axes don't allow reindexing with dups\u001b[0m\u001b[0;34m\u001b[0m\u001b[0;34m\u001b[0m\u001b[0;34m\u001b[0m\u001b[0m\n\u001b[1;32m    669\u001b[0m         \u001b[0;32mif\u001b[0m \u001b[0;32mnot\u001b[0m \u001b[0mallow_dups\u001b[0m\u001b[0;34m:\u001b[0m\u001b[0;34m\u001b[0m\u001b[0;34m\u001b[0m\u001b[0m\n\u001b[0;32m--> 670\u001b[0;31m             \u001b[0mself\u001b[0m\u001b[0;34m.\u001b[0m\u001b[0maxes\u001b[0m\u001b[0;34m[\u001b[0m\u001b[0maxis\u001b[0m\u001b[0;34m]\u001b[0m\u001b[0;34m.\u001b[0m\u001b[0m_validate_can_reindex\u001b[0m\u001b[0;34m(\u001b[0m\u001b[0mindexer\u001b[0m\u001b[0;34m)\u001b[0m\u001b[0;34m\u001b[0m\u001b[0;34m\u001b[0m\u001b[0m\n\u001b[0m\u001b[1;32m    671\u001b[0m \u001b[0;34m\u001b[0m\u001b[0m\n\u001b[1;32m    672\u001b[0m         \u001b[0;32mif\u001b[0m \u001b[0maxis\u001b[0m \u001b[0;34m>=\u001b[0m \u001b[0mself\u001b[0m\u001b[0;34m.\u001b[0m\u001b[0mndim\u001b[0m\u001b[0;34m:\u001b[0m\u001b[0;34m\u001b[0m\u001b[0;34m\u001b[0m\u001b[0m\n",
      "\u001b[0;32m~/projects/data_science/lib/python3.8/site-packages/pandas/core/indexes/base.py\u001b[0m in \u001b[0;36m_validate_can_reindex\u001b[0;34m(self, indexer)\u001b[0m\n\u001b[1;32m   3783\u001b[0m         \u001b[0;31m# trying to reindex on an axis with duplicates\u001b[0m\u001b[0;34m\u001b[0m\u001b[0;34m\u001b[0m\u001b[0;34m\u001b[0m\u001b[0m\n\u001b[1;32m   3784\u001b[0m         \u001b[0;32mif\u001b[0m \u001b[0;32mnot\u001b[0m \u001b[0mself\u001b[0m\u001b[0;34m.\u001b[0m\u001b[0m_index_as_unique\u001b[0m \u001b[0;32mand\u001b[0m \u001b[0mlen\u001b[0m\u001b[0;34m(\u001b[0m\u001b[0mindexer\u001b[0m\u001b[0;34m)\u001b[0m\u001b[0;34m:\u001b[0m\u001b[0;34m\u001b[0m\u001b[0;34m\u001b[0m\u001b[0m\n\u001b[0;32m-> 3785\u001b[0;31m             \u001b[0;32mraise\u001b[0m \u001b[0mValueError\u001b[0m\u001b[0;34m(\u001b[0m\u001b[0;34m\"cannot reindex from a duplicate axis\"\u001b[0m\u001b[0;34m)\u001b[0m\u001b[0;34m\u001b[0m\u001b[0;34m\u001b[0m\u001b[0m\n\u001b[0m\u001b[1;32m   3786\u001b[0m \u001b[0;34m\u001b[0m\u001b[0m\n\u001b[1;32m   3787\u001b[0m     def reindex(\n",
      "\u001b[0;31mValueError\u001b[0m: cannot reindex from a duplicate axis"
     ]
    }
   ],
   "source": [
    "test_df.reindex(pd.date_range('2021-01-02 00:00:00', '2021-08-02 00:00:00', freq='H', closed='left')).fillna(0)"
   ]
  },
  {
   "cell_type": "code",
   "execution_count": null,
   "id": "cc149bfa-4e4f-4b20-bfef-ac6259bf6230",
   "metadata": {},
   "outputs": [],
   "source": [
    "df['tr_count_r'] = df.iloc[::-1].groupby('name').tr_count.rolling(4).sum().reset_index(0,drop=True).iloc[::-1]\n",
    "df = df.drop(columns=[\"tr_count\"])\n",
    "df = df.rename(columns={'tr_count_r': 'tr_count'})"
   ]
  },
  {
   "cell_type": "code",
   "execution_count": 296,
   "id": "cf96945f-456c-450b-a729-5d4224761378",
   "metadata": {},
   "outputs": [],
   "source": [
    "df = df[df.name.isin(['378001', '378002', '378003'])]"
   ]
  },
  {
   "cell_type": "code",
   "execution_count": 297,
   "id": "2ff7a4a2-94fb-4c40-b2c1-a00f5ad54f0b",
   "metadata": {},
   "outputs": [],
   "source": [
    "data = df.groupby('name').filter(lambda x : len(x)>lags.max())"
   ]
  },
  {
   "cell_type": "code",
   "execution_count": 298,
   "id": "3389e318-a2e8-4794-a151-5c651dcb95dd",
   "metadata": {},
   "outputs": [],
   "source": [
    "metadata = data[['name', 'local_time']]\n",
    "extra_data = get_days_features(data, 'local_time')"
   ]
  },
  {
   "cell_type": "code",
   "execution_count": 299,
   "id": "3f031418-73f9-48e6-ab37-bd1bf35ea972",
   "metadata": {},
   "outputs": [
    {
     "name": "stderr",
     "output_type": "stream",
     "text": [
      "/home/DVL/glotovaa/projects/data_science/lib/python3.8/site-packages/pandas/core/frame.py:9190: FutureWarning: merging between different levels is deprecated and will be removed in a future version. (1 levels on the left,2 on the right)\n",
      "  return merge(\n",
      "/home/DVL/glotovaa/projects/data_science/lib/python3.8/site-packages/pandas/core/generic.py:4150: PerformanceWarning: dropping on a non-lexsorted multi-index without a level parameter may impact performance.\n",
      "  obj = obj._drop_axis(labels, axis, level=level, errors=errors)\n"
     ]
    }
   ],
   "source": [
    "tr_mode_feats = calc_tr_mode(data, '4H')"
   ]
  },
  {
   "cell_type": "code",
   "execution_count": 287,
   "id": "85f85b6c-1d54-4be2-8e1e-704870091a13",
   "metadata": {},
   "outputs": [],
   "source": [
    "full_features = np.empty((0,len(lag)), int)\n",
    "lag_max = lag.max()\n",
    "atms = data[\"name\"].unique()"
   ]
  },
  {
   "cell_type": "code",
   "execution_count": 271,
   "id": "b0467167-8b9a-4f6e-a4cd-51a771761063",
   "metadata": {},
   "outputs": [
    {
     "data": {
      "text/html": [
       "<div>\n",
       "<style scoped>\n",
       "    .dataframe tbody tr th:only-of-type {\n",
       "        vertical-align: middle;\n",
       "    }\n",
       "\n",
       "    .dataframe tbody tr th {\n",
       "        vertical-align: top;\n",
       "    }\n",
       "\n",
       "    .dataframe thead th {\n",
       "        text-align: right;\n",
       "    }\n",
       "</style>\n",
       "<table border=\"1\" class=\"dataframe\">\n",
       "  <thead>\n",
       "    <tr style=\"text-align: right;\">\n",
       "      <th></th>\n",
       "      <th>name</th>\n",
       "      <th>local_time</th>\n",
       "      <th>tr_count</th>\n",
       "    </tr>\n",
       "  </thead>\n",
       "  <tbody>\n",
       "    <tr>\n",
       "      <th>0</th>\n",
       "      <td>378001</td>\n",
       "      <td>2021-01-02 09:00:00</td>\n",
       "      <td>20.0</td>\n",
       "    </tr>\n",
       "    <tr>\n",
       "      <th>1</th>\n",
       "      <td>378001</td>\n",
       "      <td>2021-01-02 10:00:00</td>\n",
       "      <td>22.0</td>\n",
       "    </tr>\n",
       "    <tr>\n",
       "      <th>2</th>\n",
       "      <td>378001</td>\n",
       "      <td>2021-01-02 11:00:00</td>\n",
       "      <td>30.0</td>\n",
       "    </tr>\n",
       "    <tr>\n",
       "      <th>3</th>\n",
       "      <td>378001</td>\n",
       "      <td>2021-01-02 12:00:00</td>\n",
       "      <td>36.0</td>\n",
       "    </tr>\n",
       "    <tr>\n",
       "      <th>4</th>\n",
       "      <td>378001</td>\n",
       "      <td>2021-01-02 13:00:00</td>\n",
       "      <td>29.0</td>\n",
       "    </tr>\n",
       "    <tr>\n",
       "      <th>...</th>\n",
       "      <td>...</td>\n",
       "      <td>...</td>\n",
       "      <td>...</td>\n",
       "    </tr>\n",
       "    <tr>\n",
       "      <th>15228</th>\n",
       "      <td>378003</td>\n",
       "      <td>2021-08-01 18:00:00</td>\n",
       "      <td>73.0</td>\n",
       "    </tr>\n",
       "    <tr>\n",
       "      <th>15229</th>\n",
       "      <td>378003</td>\n",
       "      <td>2021-08-01 19:00:00</td>\n",
       "      <td>63.0</td>\n",
       "    </tr>\n",
       "    <tr>\n",
       "      <th>15230</th>\n",
       "      <td>378003</td>\n",
       "      <td>2021-08-01 20:00:00</td>\n",
       "      <td>NaN</td>\n",
       "    </tr>\n",
       "    <tr>\n",
       "      <th>15231</th>\n",
       "      <td>378003</td>\n",
       "      <td>2021-08-01 21:00:00</td>\n",
       "      <td>NaN</td>\n",
       "    </tr>\n",
       "    <tr>\n",
       "      <th>15232</th>\n",
       "      <td>378003</td>\n",
       "      <td>2021-08-01 22:00:00</td>\n",
       "      <td>NaN</td>\n",
       "    </tr>\n",
       "  </tbody>\n",
       "</table>\n",
       "<p>15233 rows × 3 columns</p>\n",
       "</div>"
      ],
      "text/plain": [
       "         name          local_time  tr_count\n",
       "0      378001 2021-01-02 09:00:00      20.0\n",
       "1      378001 2021-01-02 10:00:00      22.0\n",
       "2      378001 2021-01-02 11:00:00      30.0\n",
       "3      378001 2021-01-02 12:00:00      36.0\n",
       "4      378001 2021-01-02 13:00:00      29.0\n",
       "...       ...                 ...       ...\n",
       "15228  378003 2021-08-01 18:00:00      73.0\n",
       "15229  378003 2021-08-01 19:00:00      63.0\n",
       "15230  378003 2021-08-01 20:00:00       NaN\n",
       "15231  378003 2021-08-01 21:00:00       NaN\n",
       "15232  378003 2021-08-01 22:00:00       NaN\n",
       "\n",
       "[15233 rows x 3 columns]"
      ]
     },
     "execution_count": 271,
     "metadata": {},
     "output_type": "execute_result"
    }
   ],
   "source": [
    "data"
   ]
  },
  {
   "cell_type": "code",
   "execution_count": 300,
   "id": "59e4ef28-71ec-4ed3-84ad-d13d3eade300",
   "metadata": {},
   "outputs": [],
   "source": [
    "df = data"
   ]
  },
  {
   "cell_type": "code",
   "execution_count": 313,
   "id": "333c3dda-3d5f-4dc3-8db8-eecdb98b5748",
   "metadata": {},
   "outputs": [],
   "source": [
    "data2 = pd.concat([df, extra_data, tr_mode_feats], axis=1)"
   ]
  },
  {
   "cell_type": "code",
   "execution_count": 314,
   "id": "cc44dcdd-6591-484c-8562-ddb48f4f32e7",
   "metadata": {},
   "outputs": [
    {
     "data": {
      "text/plain": [
       "(15233, 24)"
      ]
     },
     "execution_count": 314,
     "metadata": {},
     "output_type": "execute_result"
    }
   ],
   "source": [
    "data2.shape"
   ]
  },
  {
   "cell_type": "code",
   "execution_count": 318,
   "id": "b7d1f386-c40d-4321-95d5-11b9e607976c",
   "metadata": {},
   "outputs": [
    {
     "data": {
      "text/html": [
       "<div>\n",
       "<style scoped>\n",
       "    .dataframe tbody tr th:only-of-type {\n",
       "        vertical-align: middle;\n",
       "    }\n",
       "\n",
       "    .dataframe tbody tr th {\n",
       "        vertical-align: top;\n",
       "    }\n",
       "\n",
       "    .dataframe thead th {\n",
       "        text-align: right;\n",
       "    }\n",
       "</style>\n",
       "<table border=\"1\" class=\"dataframe\">\n",
       "  <thead>\n",
       "    <tr style=\"text-align: right;\">\n",
       "      <th></th>\n",
       "      <th>(tr_count, 0)</th>\n",
       "      <th>(tr_count, 4)</th>\n",
       "      <th>(tr_count, 8)</th>\n",
       "      <th>(tr_count, 12)</th>\n",
       "      <th>(tr_count, 16)</th>\n",
       "      <th>(tr_count, 20)</th>\n",
       "    </tr>\n",
       "  </thead>\n",
       "  <tbody>\n",
       "    <tr>\n",
       "      <th>0</th>\n",
       "      <td>1.373223</td>\n",
       "      <td>12.356635</td>\n",
       "      <td>43.674528</td>\n",
       "      <td>53.811321</td>\n",
       "      <td>39.413915</td>\n",
       "      <td>8.991706</td>\n",
       "    </tr>\n",
       "    <tr>\n",
       "      <th>1</th>\n",
       "      <td>1.373223</td>\n",
       "      <td>12.356635</td>\n",
       "      <td>43.674528</td>\n",
       "      <td>53.811321</td>\n",
       "      <td>39.413915</td>\n",
       "      <td>8.991706</td>\n",
       "    </tr>\n",
       "    <tr>\n",
       "      <th>2</th>\n",
       "      <td>1.373223</td>\n",
       "      <td>12.356635</td>\n",
       "      <td>43.674528</td>\n",
       "      <td>53.811321</td>\n",
       "      <td>39.413915</td>\n",
       "      <td>8.991706</td>\n",
       "    </tr>\n",
       "    <tr>\n",
       "      <th>3</th>\n",
       "      <td>1.373223</td>\n",
       "      <td>12.356635</td>\n",
       "      <td>43.674528</td>\n",
       "      <td>53.811321</td>\n",
       "      <td>39.413915</td>\n",
       "      <td>8.991706</td>\n",
       "    </tr>\n",
       "    <tr>\n",
       "      <th>4</th>\n",
       "      <td>1.373223</td>\n",
       "      <td>12.356635</td>\n",
       "      <td>43.674528</td>\n",
       "      <td>53.811321</td>\n",
       "      <td>39.413915</td>\n",
       "      <td>8.991706</td>\n",
       "    </tr>\n",
       "    <tr>\n",
       "      <th>...</th>\n",
       "      <td>...</td>\n",
       "      <td>...</td>\n",
       "      <td>...</td>\n",
       "      <td>...</td>\n",
       "      <td>...</td>\n",
       "      <td>...</td>\n",
       "    </tr>\n",
       "    <tr>\n",
       "      <th>15228</th>\n",
       "      <td>2.516588</td>\n",
       "      <td>32.649289</td>\n",
       "      <td>96.921384</td>\n",
       "      <td>108.240566</td>\n",
       "      <td>70.398585</td>\n",
       "      <td>15.143365</td>\n",
       "    </tr>\n",
       "    <tr>\n",
       "      <th>15229</th>\n",
       "      <td>2.516588</td>\n",
       "      <td>32.649289</td>\n",
       "      <td>96.921384</td>\n",
       "      <td>108.240566</td>\n",
       "      <td>70.398585</td>\n",
       "      <td>15.143365</td>\n",
       "    </tr>\n",
       "    <tr>\n",
       "      <th>15230</th>\n",
       "      <td>2.516588</td>\n",
       "      <td>32.649289</td>\n",
       "      <td>96.921384</td>\n",
       "      <td>108.240566</td>\n",
       "      <td>70.398585</td>\n",
       "      <td>15.143365</td>\n",
       "    </tr>\n",
       "    <tr>\n",
       "      <th>15231</th>\n",
       "      <td>2.516588</td>\n",
       "      <td>32.649289</td>\n",
       "      <td>96.921384</td>\n",
       "      <td>108.240566</td>\n",
       "      <td>70.398585</td>\n",
       "      <td>15.143365</td>\n",
       "    </tr>\n",
       "    <tr>\n",
       "      <th>15232</th>\n",
       "      <td>2.516588</td>\n",
       "      <td>32.649289</td>\n",
       "      <td>96.921384</td>\n",
       "      <td>108.240566</td>\n",
       "      <td>70.398585</td>\n",
       "      <td>15.143365</td>\n",
       "    </tr>\n",
       "  </tbody>\n",
       "</table>\n",
       "<p>15233 rows × 6 columns</p>\n",
       "</div>"
      ],
      "text/plain": [
       "       (tr_count, 0)  (tr_count, 4)  (tr_count, 8)  (tr_count, 12)  \\\n",
       "0           1.373223      12.356635      43.674528       53.811321   \n",
       "1           1.373223      12.356635      43.674528       53.811321   \n",
       "2           1.373223      12.356635      43.674528       53.811321   \n",
       "3           1.373223      12.356635      43.674528       53.811321   \n",
       "4           1.373223      12.356635      43.674528       53.811321   \n",
       "...              ...            ...            ...             ...   \n",
       "15228       2.516588      32.649289      96.921384      108.240566   \n",
       "15229       2.516588      32.649289      96.921384      108.240566   \n",
       "15230       2.516588      32.649289      96.921384      108.240566   \n",
       "15231       2.516588      32.649289      96.921384      108.240566   \n",
       "15232       2.516588      32.649289      96.921384      108.240566   \n",
       "\n",
       "       (tr_count, 16)  (tr_count, 20)  \n",
       "0           39.413915        8.991706  \n",
       "1           39.413915        8.991706  \n",
       "2           39.413915        8.991706  \n",
       "3           39.413915        8.991706  \n",
       "4           39.413915        8.991706  \n",
       "...               ...             ...  \n",
       "15228       70.398585       15.143365  \n",
       "15229       70.398585       15.143365  \n",
       "15230       70.398585       15.143365  \n",
       "15231       70.398585       15.143365  \n",
       "15232       70.398585       15.143365  \n",
       "\n",
       "[15233 rows x 6 columns]"
      ]
     },
     "execution_count": 318,
     "metadata": {},
     "output_type": "execute_result"
    }
   ],
   "source": [
    "tr_mode_feats"
   ]
  },
  {
   "cell_type": "code",
   "execution_count": 322,
   "id": "73d49a71-e508-43d2-9891-9e6a71bf5adb",
   "metadata": {},
   "outputs": [
    {
     "data": {
      "text/plain": [
       "'2021-01-02 09:00:00'"
      ]
     },
     "execution_count": 322,
     "metadata": {},
     "output_type": "execute_result"
    }
   ],
   "source": [
    "str(data2.local_time[0])"
   ]
  },
  {
   "cell_type": "code",
   "execution_count": 291,
   "id": "bb677c5d-7aab-4e63-aa47-fed978e05f55",
   "metadata": {},
   "outputs": [
    {
     "data": {
      "text/plain": [
       "(15233, 21)"
      ]
     },
     "execution_count": 291,
     "metadata": {},
     "output_type": "execute_result"
    }
   ],
   "source": [
    "data3.shape"
   ]
  },
  {
   "cell_type": "code",
   "execution_count": 278,
   "id": "73a0eb81-4a6f-46ca-bd21-727a22d93ccc",
   "metadata": {},
   "outputs": [
    {
     "name": "stdout",
     "output_type": "stream",
     "text": [
      "all data -  (15233, 25)\n",
      "data after remove zeros -  (13712, 27)\n"
     ]
    }
   ],
   "source": [
    "data = pd.DataFrame(data2)\n",
    "data['target'] = y\n",
    "print(\"all data - \", data.shape)\n",
    "data = data.dropna()\n",
    "#data = data[(data[0] != -1)]\n",
    "data = pd.concat([metadata, pd.DataFrame(data)], axis=1)\n",
    "data = data.dropna()\n",
    "print(\"data after remove zeros - \", data.shape)\n",
    "y = data.target\n",
    "data = data.drop(columns = \"target\")"
   ]
  },
  {
   "cell_type": "code",
   "execution_count": null,
   "id": "07b0982b-af5a-4aea-a355-b26683877f1b",
   "metadata": {},
   "outputs": [],
   "source": []
  },
  {
   "cell_type": "code",
   "execution_count": null,
   "id": "e83d3e4d-a364-4754-8ab3-0a88380a8746",
   "metadata": {},
   "outputs": [],
   "source": []
  }
 ],
 "metadata": {
  "kernelspec": {
   "display_name": "Python 3 (ipykernel)",
   "language": "python",
   "name": "python3"
  },
  "language_info": {
   "codemirror_mode": {
    "name": "ipython",
    "version": 3
   },
   "file_extension": ".py",
   "mimetype": "text/x-python",
   "name": "python",
   "nbconvert_exporter": "python",
   "pygments_lexer": "ipython3",
   "version": "3.8.12"
  }
 },
 "nbformat": 4,
 "nbformat_minor": 5
}
